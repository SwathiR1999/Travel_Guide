{
 "cells": [
  {
   "cell_type": "code",
   "execution_count": null,
   "id": "dd6a53f0-9f76-47cb-8dc2-bad5aa6b61ad",
   "metadata": {},
   "outputs": [],
   "source": [
    "# curl -fsSL https://ollama.com/install.sh | sh\n",
    "# ollama serve\n",
    "# ollama pull llama3.2\n",
    "# ollama run llama3.2"
   ]
  },
  {
   "cell_type": "code",
   "execution_count": null,
   "id": "b7b66391-b8ed-447d-acd7-cef73f236c2b",
   "metadata": {},
   "outputs": [],
   "source": [
    "!pip install --ignore-installed crewai crewai_tools langchain langchain_community langchain_ollama duckduckgo-search --quiet\n",
    "!pip install pyngrok --quiet\n",
    "!pip install flask --quiet\n",
    "!pip install markdown --quiet"
   ]
  },
  {
   "cell_type": "code",
   "execution_count": null,
   "id": "85b0b9d1-e709-4726-a1f0-4543e5216a70",
   "metadata": {},
   "outputs": [],
   "source": [
    "from pyngrok import ngrok\n",
    "ngrok.set_auth_token(\"XXXX\")"
   ]
  },
  {
   "cell_type": "code",
   "execution_count": null,
   "id": "c7fecf43-7f10-429c-a714-1132738cf91c",
   "metadata": {},
   "outputs": [],
   "source": [
    "# visit https://openweathermap.org/ to get api\n",
    "import os\n",
    "os.environ['Weather_Tool_API'] = 'XXXX'"
   ]
  },
  {
   "cell_type": "code",
   "execution_count": null,
   "id": "adf6a038-f205-4d3b-a2aa-97a054f27155",
   "metadata": {},
   "outputs": [],
   "source": [
    "!python app.py"
   ]
  }
 ],
 "metadata": {
  "kernelspec": {
   "display_name": "Python 3 (ipykernel)",
   "language": "python",
   "name": "python3"
  },
  "language_info": {
   "codemirror_mode": {
    "name": "ipython",
    "version": 3
   },
   "file_extension": ".py",
   "mimetype": "text/x-python",
   "name": "python",
   "nbconvert_exporter": "python",
   "pygments_lexer": "ipython3",
   "version": "3.10.12"
  }
 },
 "nbformat": 4,
 "nbformat_minor": 5
}
